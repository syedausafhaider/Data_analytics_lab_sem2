{
  "nbformat": 4,
  "nbformat_minor": 0,
  "metadata": {
    "colab": {
      "provenance": []
    },
    "kernelspec": {
      "name": "python3",
      "display_name": "Python 3"
    },
    "language_info": {
      "name": "python"
    }
  },
  "cells": [
    {
      "cell_type": "code",
      "execution_count": 1,
      "metadata": {
        "id": "m4KEwqG3u3BN"
      },
      "outputs": [],
      "source": [
        "import numpy as np"
      ]
    },
    {
      "cell_type": "code",
      "source": [
        "# Dataset\n",
        "data = {\n",
        "    'ad_budget': [200, 300, 150, 400, 250],\n",
        "    'social_media': [50, 70, 30, 80, 60],\n",
        "    'sales': [1000, 1500, 800, 2000, 1200]\n",
        "}"
      ],
      "metadata": {
        "id": "1HvshG2rvAws"
      },
      "execution_count": 2,
      "outputs": []
    },
    {
      "cell_type": "code",
      "source": [
        "# Features (X) and Target (y)\n",
        "X = np.array([data['ad_budget'], data['social_media']]).T  # Shape: (n_samples, n_features)\n",
        "y = np.array(data['sales'])                                # Shape: (n_samples,)"
      ],
      "metadata": {
        "id": "XFbHS0ZZvEzk"
      },
      "execution_count": 3,
      "outputs": []
    },
    {
      "cell_type": "code",
      "source": [
        "# Add a column of ones for the intercept term\n",
        "X = np.c_[np.ones(X.shape[0]), X]  # Shape: (n_samples, n_features + 1)"
      ],
      "metadata": {
        "id": "jHQarQSivWI4"
      },
      "execution_count": 4,
      "outputs": []
    },
    {
      "cell_type": "code",
      "source": [
        "# Split into training and testing sets (80% train, 20% test)\n",
        "split_index = int(0.8 * X.shape[0])\n",
        "X_train, X_test = X[:split_index], X[split_index:]\n",
        "y_train, y_test = y[:split_index], y[split_index:]"
      ],
      "metadata": {
        "id": "KoyCIdMovYna"
      },
      "execution_count": 5,
      "outputs": []
    },
    {
      "cell_type": "code",
      "source": [
        "def rmse(y_true, y_pred):\n",
        "    return np.sqrt(np.mean((y_true - y_pred) ** 2))"
      ],
      "metadata": {
        "id": "aB_tp1I7va4M"
      },
      "execution_count": 6,
      "outputs": []
    },
    {
      "cell_type": "code",
      "source": [
        "def r2_score(y_true, y_pred):\n",
        "    ss_total = np.sum((y_true - np.mean(y_true)) ** 2)\n",
        "    ss_residual = np.sum((y_true - y_pred) ** 2)\n",
        "    return 1 - (ss_residual / ss_total)"
      ],
      "metadata": {
        "id": "UB-CQwygve3e"
      },
      "execution_count": 7,
      "outputs": []
    },
    {
      "cell_type": "code",
      "source": [
        "# Task 1: Linear Regression (Closed-form solution)\n",
        "def linear_regression(X, y):\n",
        "    # Solve for coefficients using the normal equation: theta = (X.T @ X)^(-1) @ X.T @ y\n",
        "    theta = np.linalg.inv(X.T @ X) @ X.T @ y\n",
        "    return theta"
      ],
      "metadata": {
        "id": "P-6hMVpWvg_6"
      },
      "execution_count": 8,
      "outputs": []
    },
    {
      "cell_type": "code",
      "source": [
        "# Train Linear Regression\n",
        "theta_linear = linear_regression(X_train, y_train)\n",
        "c, m1, m2 = theta_linear  # Intercept (c), slope for ad_budget (m1), slope for social_media (m2)"
      ],
      "metadata": {
        "id": "SC802xZtwIqF"
      },
      "execution_count": 9,
      "outputs": []
    },
    {
      "cell_type": "code",
      "source": [
        "# Predictions using y = m1*x1 + m2*x2 + c\n",
        "y_pred_linear = m1 * X_test[:, 1] + m2 * X_test[:, 2] + c"
      ],
      "metadata": {
        "id": "79OZY1x5wLfY"
      },
      "execution_count": 10,
      "outputs": []
    },
    {
      "cell_type": "code",
      "source": [
        "# Evaluate Linear Regression\n",
        "rmse_linear = rmse(y_test, y_pred_linear)\n",
        "r2_linear = r2_score(y_test, y_pred_linear)"
      ],
      "metadata": {
        "colab": {
          "base_uri": "https://localhost:8080/"
        },
        "id": "zqrvDyCAwOof",
        "outputId": "845c0fa9-36fd-440a-8840-ceb5520386e6"
      },
      "execution_count": 11,
      "outputs": [
        {
          "output_type": "stream",
          "name": "stderr",
          "text": [
            "<ipython-input-7-389c398844fe>:4: RuntimeWarning: divide by zero encountered in scalar divide\n",
            "  return 1 - (ss_residual / ss_total)\n"
          ]
        }
      ]
    },
    {
      "cell_type": "code",
      "source": [
        "# Task 2: Lasso Regression (Gradient Descent with L1 Penalty)\n",
        "def lasso_regression(X, y, alpha=0.1, learning_rate=0.01, epochs=1000):\n",
        "    n_samples, n_features = X.shape\n",
        "    theta = np.zeros(n_features)  # Initialize coefficients to zero\n",
        "\n",
        "    for _ in range(epochs):\n",
        "        y_pred = X @ theta\n",
        "        error = y_pred - y\n",
        "\n",
        "        # Gradient of the loss function with L1 penalty\n",
        "        gradient = (X.T @ error) / n_samples + alpha * np.sign(theta)\n",
        "\n",
        "        # Update coefficients\n",
        "        theta -= learning_rate * gradient\n",
        "\n",
        "    return theta"
      ],
      "metadata": {
        "id": "sREWK88HwRfy"
      },
      "execution_count": 12,
      "outputs": []
    },
    {
      "cell_type": "code",
      "source": [
        "# Train Lasso Regression\n",
        "alpha = 0.1\n",
        "theta_lasso = lasso_regression(X_train, y_train, alpha=alpha)\n",
        "c_lasso, m1_lasso, m2_lasso = theta_lasso  # Intercept (c), slope for ad_budget (m1), slope for social_media (m2)"
      ],
      "metadata": {
        "colab": {
          "base_uri": "https://localhost:8080/"
        },
        "id": "gk8ftZxKwU3v",
        "outputId": "9311935d-1739-4cf2-dc24-a2074f2ea2e4"
      },
      "execution_count": 13,
      "outputs": [
        {
          "output_type": "stream",
          "name": "stderr",
          "text": [
            "<ipython-input-12-fb8fa13def05>:11: RuntimeWarning: overflow encountered in matmul\n",
            "  gradient = (X.T @ error) / n_samples + alpha * np.sign(theta)\n",
            "<ipython-input-12-fb8fa13def05>:14: RuntimeWarning: invalid value encountered in subtract\n",
            "  theta -= learning_rate * gradient\n"
          ]
        }
      ]
    },
    {
      "cell_type": "code",
      "source": [
        "# Predictions using y = m1*x1 + m2*x2 + c\n",
        "y_pred_lasso = m1_lasso * X_test[:, 1] + m2_lasso * X_test[:, 2] + c_lasso"
      ],
      "metadata": {
        "id": "alFVegKywXZJ"
      },
      "execution_count": 14,
      "outputs": []
    },
    {
      "cell_type": "code",
      "source": [
        "# Evaluate Lasso Regression\n",
        "rmse_lasso = rmse(y_test, y_pred_lasso)\n",
        "r2_lasso = r2_score(y_test, y_pred_lasso)"
      ],
      "metadata": {
        "id": "uSgb2WL2wdz2"
      },
      "execution_count": 15,
      "outputs": []
    },
    {
      "cell_type": "code",
      "source": [
        "# Task 3: Compare Model Performance\n",
        "print(\"Linear Regression:\")\n",
        "print(f\"Intercept (c): {c:.2f}\")\n",
        "print(f\"Slope for ad_budget (m1): {m1:.2f}\")\n",
        "print(f\"Slope for social_media (m2): {m2:.2f}\")\n",
        "print(f\"RMSE: {rmse_linear:.2f}\")\n",
        "print(f\"R² Score: {r2_linear:.2f}\\n\")"
      ],
      "metadata": {
        "colab": {
          "base_uri": "https://localhost:8080/"
        },
        "id": "JxKYOoJPwgec",
        "outputId": "d9e51542-3e26-4ec6-f5c3-c1d6094c129f"
      },
      "execution_count": 16,
      "outputs": [
        {
          "output_type": "stream",
          "name": "stdout",
          "text": [
            "Linear Regression:\n",
            "Intercept (c): 72.41\n",
            "Slope for ad_budget (m1): 5.41\n",
            "Slope for social_media (m2): -2.93\n",
            "RMSE: 50.00\n",
            "R² Score: -inf\n",
            "\n"
          ]
        }
      ]
    },
    {
      "cell_type": "code",
      "source": [
        "print(\"Lasso Regression (α = 0.1):\")\n",
        "print(f\"Intercept (c): {c_lasso:.2f}\")\n",
        "print(f\"Slope for ad_budget (m1): {m1_lasso:.2f}\")\n",
        "print(f\"Slope for social_media (m2): {m2_lasso:.2f}\")\n",
        "print(f\"RMSE: {rmse_lasso:.2f}\")\n",
        "print(f\"R² Score: {r2_lasso:.2f}\")"
      ],
      "metadata": {
        "colab": {
          "base_uri": "https://localhost:8080/"
        },
        "id": "hV4MAbe_wjCs",
        "outputId": "f4ca3872-d0ef-4c36-fcfa-8fb9a68b8b5f"
      },
      "execution_count": 17,
      "outputs": [
        {
          "output_type": "stream",
          "name": "stdout",
          "text": [
            "Lasso Regression (α = 0.1):\n",
            "Intercept (c): nan\n",
            "Slope for ad_budget (m1): nan\n",
            "Slope for social_media (m2): nan\n",
            "RMSE: nan\n",
            "R² Score: nan\n"
          ]
        }
      ]
    },
    {
      "cell_type": "code",
      "source": [],
      "metadata": {
        "id": "AeruDbcFwltP"
      },
      "execution_count": null,
      "outputs": []
    }
  ]
}