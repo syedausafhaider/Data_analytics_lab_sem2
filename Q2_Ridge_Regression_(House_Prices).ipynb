{
  "nbformat": 4,
  "nbformat_minor": 0,
  "metadata": {
    "colab": {
      "provenance": []
    },
    "kernelspec": {
      "name": "python3",
      "display_name": "Python 3"
    },
    "language_info": {
      "name": "python"
    }
  },
  "cells": [
    {
      "cell_type": "code",
      "execution_count": 1,
      "metadata": {
        "id": "suFPDWcPXW0A"
      },
      "outputs": [],
      "source": [
        "# Importing required libraries\n",
        "import numpy as np\n",
        "import pandas as pd\n",
        "from sklearn.linear_model import Ridge, LinearRegression\n",
        "from sklearn.metrics import mean_squared_error, r2_score\n",
        "from sklearn.model_selection import train_test_split"
      ]
    },
    {
      "cell_type": "code",
      "source": [
        "# Prepare the Data\n",
        "# We will create a DataFrame from the given dataset and split it into features (X) and target (y). Then, we'll split the data into training and testing sets.\n",
        "# Define the dataset\n",
        "data = {\n",
        "    'size_sqft': [1200, 1500, 1000, 1800, 2000],\n",
        "    'bedrooms': [2, 3, 1, 4, 3],\n",
        "    'age_years': [5, 10, 2, 15, 8],\n",
        "    'price': [250000, 350000, 200000, 400000, 450000]\n",
        "}"
      ],
      "metadata": {
        "id": "90zyvyK9X3rz"
      },
      "execution_count": 2,
      "outputs": []
    },
    {
      "cell_type": "code",
      "source": [
        "# Create a DataFrame\n",
        "df = pd.DataFrame(data)\n",
        "\n",
        "# Features (X) and target (y)\n",
        "X = df[['size_sqft', 'bedrooms', 'age_years']]\n",
        "y = df['price']\n",
        "\n",
        "# Split the data into training and testing sets (80% train, 20% test)\n",
        "X_train, X_test, y_train, y_test = train_test_split(X, y, test_size=0.2, random_state=42)"
      ],
      "metadata": {
        "id": "mkmWemt_YC__"
      },
      "execution_count": 3,
      "outputs": []
    },
    {
      "cell_type": "code",
      "source": [
        "# We will train a Ridge Regression model with alpha=0.5 and evaluate its performance.\n",
        "# Initialize Ridge Regression model with alpha=0.5\n",
        "ridge = Ridge(alpha=0.5)\n",
        "\n",
        "# Train the model on the training data\n",
        "ridge.fit(X_train, y_train)\n",
        "\n",
        "# Make predictions on the test data\n",
        "y_pred_ridge = ridge.predict(X_test)\n",
        "\n",
        "# Evaluate Ridge Regression performance\n",
        "rmse_ridge = np.sqrt(mean_squared_error(y_test, y_pred_ridge))\n",
        "r2_ridge = r2_score(y_test, y_pred_ridge)\n",
        "\n",
        "print(\"Ridge Regression Results:\")\n",
        "print(f\"RMSE: {rmse_ridge}\")\n",
        "print(f\"R²: {r2_ridge}\") # nan leading to iverfitting due to low sample size"
      ],
      "metadata": {
        "colab": {
          "base_uri": "https://localhost:8080/"
        },
        "id": "Mh-s22beYHk8",
        "outputId": "821bc070-49ce-44b4-a3cd-a1585aaf8c72"
      },
      "execution_count": 5,
      "outputs": [
        {
          "output_type": "stream",
          "name": "stdout",
          "text": [
            "Ridge Regression Results:\n",
            "RMSE: 24999.917731821944\n",
            "R²: nan\n"
          ]
        },
        {
          "output_type": "stream",
          "name": "stderr",
          "text": [
            "/usr/local/lib/python3.11/dist-packages/sklearn/metrics/_regression.py:1266: UndefinedMetricWarning: R^2 score is not well-defined with less than two samples.\n",
            "  warnings.warn(msg, UndefinedMetricWarning)\n"
          ]
        }
      ]
    },
    {
      "cell_type": "code",
      "source": [
        "# we will train a Linear Regression model and evaluate its performance.\n",
        "# Initialize Linear Regression model\n",
        "linear = LinearRegression()\n",
        "\n",
        "# Train the model on the training data\n",
        "linear.fit(X_train, y_train)\n",
        "\n",
        "# Make predictions on the test data\n",
        "y_pred_linear = linear.predict(X_test)\n",
        "\n",
        "# Evaluate Linear Regression performance\n",
        "rmse_linear = np.sqrt(mean_squared_error(y_test, y_pred_linear))\n",
        "r2_linear = r2_score(y_test, y_pred_linear)\n",
        "\n",
        "print(\"\\nLinear Regression Results:\")\n",
        "print(f\"RMSE: {rmse_linear}\")\n",
        "print(f\"R²: {r2_linear}\")"
      ],
      "metadata": {
        "colab": {
          "base_uri": "https://localhost:8080/"
        },
        "id": "Q_pe8rwOYTVJ",
        "outputId": "d9234563-9364-4846-d4b8-2635d6920b3f"
      },
      "execution_count": 6,
      "outputs": [
        {
          "output_type": "stream",
          "name": "stdout",
          "text": [
            "\n",
            "Linear Regression Results:\n",
            "RMSE: 25000.0\n",
            "R²: nan\n"
          ]
        },
        {
          "output_type": "stream",
          "name": "stderr",
          "text": [
            "/usr/local/lib/python3.11/dist-packages/sklearn/metrics/_regression.py:1266: UndefinedMetricWarning: R^2 score is not well-defined with less than two samples.\n",
            "  warnings.warn(msg, UndefinedMetricWarning)\n"
          ]
        }
      ]
    },
    {
      "cell_type": "code",
      "source": [
        "print(\"\\nComparison of Models:\")\n",
        "print(f\"Ridge Regression - RMSE: {rmse_ridge}, R²: {r2_ridge}\")\n",
        "print(f\"Linear Regression - RMSE: {rmse_linear}, R²: {r2_linear}\")"
      ],
      "metadata": {
        "colab": {
          "base_uri": "https://localhost:8080/"
        },
        "id": "EQHBCX8wYga-",
        "outputId": "3ead7a3e-351a-47b5-f212-c1e7ac20f7cd"
      },
      "execution_count": 7,
      "outputs": [
        {
          "output_type": "stream",
          "name": "stdout",
          "text": [
            "\n",
            "Comparison of Models:\n",
            "Ridge Regression - RMSE: 24999.917731821944, R²: nan\n",
            "Linear Regression - RMSE: 25000.0, R²: nan\n"
          ]
        }
      ]
    },
    {
      "cell_type": "code",
      "source": [],
      "metadata": {
        "id": "wuHi0HCtYjPQ"
      },
      "execution_count": null,
      "outputs": []
    }
  ]
}