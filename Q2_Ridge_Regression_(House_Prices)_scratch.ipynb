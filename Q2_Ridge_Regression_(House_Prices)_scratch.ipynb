{
  "nbformat": 4,
  "nbformat_minor": 0,
  "metadata": {
    "colab": {
      "provenance": []
    },
    "kernelspec": {
      "name": "python3",
      "display_name": "Python 3"
    },
    "language_info": {
      "name": "python"
    }
  },
  "cells": [
    {
      "cell_type": "code",
      "execution_count": 1,
      "metadata": {
        "id": "ucUGt3joYtbk"
      },
      "outputs": [],
      "source": [
        "import numpy as np"
      ]
    },
    {
      "cell_type": "code",
      "source": [
        "data = {\n",
        "    'size_sqft': [1200, 1500, 1000, 1800, 2000],\n",
        "    'bedrooms': [2, 3, 1, 4, 3],\n",
        "    'age_years': [5, 10, 2, 15, 8],\n",
        "    'price': [250000, 350000, 200000, 400000, 450000]\n",
        "}"
      ],
      "metadata": {
        "id": "Sm8V1gVBqIsw"
      },
      "execution_count": 2,
      "outputs": []
    },
    {
      "cell_type": "code",
      "source": [
        "# Convert data into numpy arrays\n",
        "X = np.array([\n",
        "    [1200, 2, 5],\n",
        "    [1500, 3, 10],\n",
        "    [1000, 1, 2],\n",
        "    [1800, 4, 15],\n",
        "    [2000, 3, 8]\n",
        "])\n",
        "y = np.array([250000, 350000, 200000, 400000, 450000])"
      ],
      "metadata": {
        "id": "RKBeKXmqqMMG"
      },
      "execution_count": 3,
      "outputs": []
    },
    {
      "cell_type": "code",
      "source": [
        "# Add a column of ones for the intercept term\n",
        "X = np.c_[np.ones(X.shape[0]), X]  # Shape: (n_samples, n_features + 1)"
      ],
      "metadata": {
        "id": "LjTgo6qoqTLc"
      },
      "execution_count": 4,
      "outputs": []
    },
    {
      "cell_type": "code",
      "source": [
        "# Split the data into training and testing sets (80% train, 20% test)\n",
        "train_indices = [0, 1, 2, 3]\n",
        "test_indices = [4]\n",
        "\n",
        "X_train, X_test = X[train_indices], X[test_indices]\n",
        "y_train, y_test = y[train_indices], y[test_indices]"
      ],
      "metadata": {
        "id": "26dnF8NjqYYr"
      },
      "execution_count": 5,
      "outputs": []
    },
    {
      "cell_type": "code",
      "source": [
        "def compute_weights(X, y, alpha=0):\n",
        "    \"\"\"\n",
        "    Compute weights for Ridge or Linear Regression.\n",
        "    - If alpha=0, it performs Linear Regression.\n",
        "    - If alpha>0, it performs Ridge Regression.\n",
        "    \"\"\"\n",
        "    n_features = X.shape[1]\n",
        "    try:\n",
        "        if alpha == 0:\n",
        "            # Linear Regression: w = (X^T X)^(-1) X^T y\n",
        "            return np.linalg.inv(X.T @ X) @ X.T @ y\n",
        "        else:\n",
        "            # Ridge Regression: w = (X^T X + alpha * I)^(-1) X^T y\n",
        "            I = np.eye(n_features)\n",
        "            return np.linalg.inv(X.T @ X + alpha * I) @ X.T @ y\n",
        "    except np.linalg.LinAlgError:\n",
        "        print(\"Singular matrix encountered. Adding small regularization.\")\n",
        "        alpha = 1e-6  # Small regularization to avoid singularity\n",
        "        I = np.eye(n_features)\n",
        "        return np.linalg.inv(X.T @ X + alpha * I) @ X.T @ y\n"
      ],
      "metadata": {
        "id": "sv9idgBTqdmC"
      },
      "execution_count": 11,
      "outputs": []
    },
    {
      "cell_type": "code",
      "source": [
        "def predict(X, w):\n",
        "    \"\"\"\n",
        "    Predict target values using the weights.\n",
        "    \"\"\"\n",
        "    return X @ w"
      ],
      "metadata": {
        "id": "YXUN36tzqkxh"
      },
      "execution_count": 12,
      "outputs": []
    },
    {
      "cell_type": "code",
      "source": [
        "def rmse(y_true, y_pred):\n",
        "    \"\"\"\n",
        "    Compute Root Mean Squared Error (RMSE).\n",
        "    \"\"\"\n",
        "    return np.sqrt(np.mean((y_true - y_pred) ** 2))"
      ],
      "metadata": {
        "id": "EhJmmc5Fqpwy"
      },
      "execution_count": 13,
      "outputs": []
    },
    {
      "cell_type": "code",
      "source": [
        "def r2_score(y_true, y_pred):\n",
        "    \"\"\"\n",
        "    Compute R-squared (R²) score.\n",
        "    \"\"\"\n",
        "    ss_total = np.sum((y_true - np.mean(y_true)) ** 2)\n",
        "    ss_residual = np.sum((y_true - y_pred) ** 2)\n",
        "    return 1 - (ss_residual / ss_total)"
      ],
      "metadata": {
        "id": "Oaag_0Ivquk8"
      },
      "execution_count": 14,
      "outputs": []
    },
    {
      "cell_type": "code",
      "source": [
        "# -------------------------\n",
        "# 1. Linear Regression\n",
        "# -------------------------\n",
        "w_linear = compute_weights(X_train, y_train, alpha=0)  # alpha=0 for Linear Regression\n",
        "y_pred_linear = predict(X_test, w_linear)\n",
        "\n",
        "rmse_linear = rmse(y_test, y_pred_linear)\n",
        "r2_linear = r2_score(y_test, y_pred_linear)\n",
        "\n",
        "print(\"Linear Regression Results:\")\n",
        "print(f\"Weights: {w_linear}\")\n",
        "print(f\"RMSE: {rmse_linear}\")\n",
        "print(f\"R²: {r2_linear}\")"
      ],
      "metadata": {
        "colab": {
          "base_uri": "https://localhost:8080/"
        },
        "id": "Q1SxMrJWqyBa",
        "outputId": "2d978699-d1ba-402f-8509-f26159cde981"
      },
      "execution_count": 15,
      "outputs": [
        {
          "output_type": "stream",
          "name": "stdout",
          "text": [
            "Singular matrix encountered. Adding small regularization.\n",
            "Linear Regression Results:\n",
            "Weights: [-1402.97717116   178.12149704 24426.84127138  -572.64799455]\n",
            "RMSE: 26460.64323196234\n",
            "R²: -inf\n"
          ]
        },
        {
          "output_type": "stream",
          "name": "stderr",
          "text": [
            "<ipython-input-14-805feb401d01>:7: RuntimeWarning: divide by zero encountered in scalar divide\n",
            "  return 1 - (ss_residual / ss_total)\n"
          ]
        }
      ]
    },
    {
      "cell_type": "code",
      "source": [
        "# -------------------------\n",
        "# 2. Ridge Regression (α = 0.5)\n",
        "# -------------------------\n",
        "alpha = 0.5\n",
        "w_ridge = compute_weights(X_train, y_train, alpha=alpha)  # Ridge Regression with alpha=0.5\n",
        "y_pred_ridge = predict(X_test, w_ridge)\n",
        "\n",
        "rmse_ridge = rmse(y_test, y_pred_ridge)\n",
        "r2_ridge = r2_score(y_test, y_pred_ridge)\n",
        "\n",
        "print(\"\\nRidge Regression Results:\")\n",
        "print(f\"Weights: {w_ridge}\")\n",
        "print(f\"RMSE: {rmse_ridge}\")\n",
        "print(f\"R²: {r2_ridge}\")"
      ],
      "metadata": {
        "colab": {
          "base_uri": "https://localhost:8080/"
        },
        "id": "49EQZI43q2YE",
        "outputId": "8f3aa288-c701-452b-d3ea-3c59e4b1b991"
      },
      "execution_count": 16,
      "outputs": [
        {
          "output_type": "stream",
          "name": "stdout",
          "text": [
            "\n",
            "Ridge Regression Results:\n",
            "Weights: [-364.85077557  194.33323789 2990.64432152 3215.7055279 ]\n",
            "RMSE: 27000.797812530887\n",
            "R²: -inf\n"
          ]
        },
        {
          "output_type": "stream",
          "name": "stderr",
          "text": [
            "<ipython-input-14-805feb401d01>:7: RuntimeWarning: divide by zero encountered in scalar divide\n",
            "  return 1 - (ss_residual / ss_total)\n"
          ]
        }
      ]
    },
    {
      "cell_type": "code",
      "source": [
        "# -------------------------\n",
        "# 3. Compare Results\n",
        "# -------------------------\n",
        "print(\"\\nComparison of Models:\")\n",
        "print(f\"Linear Regression - RMSE: {rmse_linear}, R²: {r2_linear}\")\n",
        "print(f\"Ridge Regression - RMSE: {rmse_ridge}, R²: {r2_ridge}\")"
      ],
      "metadata": {
        "colab": {
          "base_uri": "https://localhost:8080/"
        },
        "id": "JJi5mpYZrtnN",
        "outputId": "71d4c48d-2c17-48a9-bc4e-fd27de6ec5cf"
      },
      "execution_count": 17,
      "outputs": [
        {
          "output_type": "stream",
          "name": "stdout",
          "text": [
            "\n",
            "Comparison of Models:\n",
            "Linear Regression - RMSE: 26460.64323196234, R²: -inf\n",
            "Ridge Regression - RMSE: 27000.797812530887, R²: -inf\n"
          ]
        }
      ]
    },
    {
      "cell_type": "code",
      "source": [],
      "metadata": {
        "id": "Gv8ppkCdr3Pm"
      },
      "execution_count": null,
      "outputs": []
    }
  ]
}